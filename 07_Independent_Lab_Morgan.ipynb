{
 "cells": [
  {
   "cell_type": "code",
   "execution_count": null,
   "id": "d901da8c-3f8f-4bd0-a2cd-92567e337190",
   "metadata": {},
   "outputs": [],
   "source": [
    "Troy Morgan  \n",
    "Week 7 Independent Lab  \n",
    "BGEN 632, Graduate Introduction to Python  \n",
    "Submitted April 14, 2025\n",
    "\n",
    "Independent Lab:  Manipulating Data"
   ]
  }
 ],
 "metadata": {
  "kernelspec": {
   "display_name": "Python 3 (ipykernel)",
   "language": "python",
   "name": "python3"
  },
  "language_info": {
   "codemirror_mode": {
    "name": "ipython",
    "version": 3
   },
   "file_extension": ".py",
   "mimetype": "text/x-python",
   "name": "python",
   "nbconvert_exporter": "python",
   "pygments_lexer": "ipython3",
   "version": "3.12.7"
  }
 },
 "nbformat": 4,
 "nbformat_minor": 5
}
