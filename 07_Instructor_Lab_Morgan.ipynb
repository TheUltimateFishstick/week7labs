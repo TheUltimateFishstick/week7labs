{
 "cells": [
  {
   "cell_type": "markdown",
   "id": "60f90181-d04d-4513-a7c5-4504c379079b",
   "metadata": {},
   "source": [
    "Troy Morgan  \n",
    "Week 7 Instructor-Led Lab  \n",
    "BGEN 632, Graduate Introduction to Python  \n",
    "Submitted April 14, 2025\n",
    "\n",
    "Instructor-led Lab: Manipulating Data"
   ]
  },
  {
   "cell_type": "markdown",
   "id": "9cc84944-fe61-4719-ad4a-17c2c84c6643",
   "metadata": {},
   "source": [
    "# Imports"
   ]
  },
  {
   "cell_type": "code",
   "execution_count": 1,
   "id": "513b0d4c-9565-4805-950e-b77864f7fb5d",
   "metadata": {},
   "outputs": [],
   "source": [
    "import os\n",
    "import pandas as pd\n",
    "import numpy as np\n",
    "from sklearn.model_selection import KFold"
   ]
  },
  {
   "cell_type": "markdown",
   "id": "09b58ad1-cda7-4b97-8edf-b93cad6a742f",
   "metadata": {},
   "source": [
    " # Accessing Data"
   ]
  },
  {
   "cell_type": "markdown",
   "id": "6ea2c48e-d641-4355-8a7c-75e8993a1d2e",
   "metadata": {},
   "source": [
    "## Open the file within Python."
   ]
  },
  {
   "cell_type": "code",
   "execution_count": 2,
   "id": "6728bbde-e008-4909-af7f-513122e5873e",
   "metadata": {},
   "outputs": [
    {
     "data": {
      "text/plain": [
       "'C:\\\\Users\\\\troy.morgan\\\\Documents\\\\GitHub\\\\week7labs'"
      ]
     },
     "execution_count": 2,
     "metadata": {},
     "output_type": "execute_result"
    }
   ],
   "source": [
    "# Determine current directory\n",
    "os.getcwd()"
   ]
  },
  {
   "cell_type": "code",
   "execution_count": 3,
   "id": "ca3b6668-01aa-4312-bf11-9df52b99279a",
   "metadata": {},
   "outputs": [],
   "source": [
    "# Change directory where data it located.\n",
    "os.chdir(\"\\\\Users\\\\troy.morgan\\\\Documents\\\\GitHub\\\\week7labs/data\")"
   ]
  },
  {
   "cell_type": "code",
   "execution_count": 4,
   "id": "7268e58d-ec66-40a9-9370-18b2705cb56e",
   "metadata": {},
   "outputs": [
    {
     "data": {
      "text/plain": [
       "'C:\\\\Users\\\\troy.morgan\\\\Documents\\\\GitHub\\\\week7labs\\\\data'"
      ]
     },
     "execution_count": 4,
     "metadata": {},
     "output_type": "execute_result"
    }
   ],
   "source": [
    "# Check that directory was changed.\n",
    "os.getcwd()"
   ]
  },
  {
   "cell_type": "code",
   "execution_count": 5,
   "id": "2cd70c77-2b89-4491-891e-13835ec73e10",
   "metadata": {},
   "outputs": [],
   "source": [
    "# Open file\n",
    "github_teams = pd.read_csv(\"github_teams.csv\")"
   ]
  },
  {
   "cell_type": "markdown",
   "id": "3342840b-258b-4abc-9634-8fcd9076f37e",
   "metadata": {},
   "source": [
    "## Find out what the column header names are."
   ]
  },
  {
   "cell_type": "code",
   "execution_count": 6,
   "id": "023dd54a-7903-4086-becb-cb75b4a0291e",
   "metadata": {},
   "outputs": [
    {
     "data": {
      "text/plain": [
       "Index(['name_h', 'Team_type', 'Team_size_class', 'human_members_count',\n",
       "       'bot_members_count', 'human_work', 'work_per_human', 'human_gini',\n",
       "       'human_Push', 'human_IssueComments', 'human_PRReviewComment',\n",
       "       'human_MergedPR', 'bot_work', 'bot_Push', 'bot_IssueComments',\n",
       "       'bot_PRReviewComment', 'bot_MergedPR', 'eval_survival_day_median',\n",
       "       'issues_count'],\n",
       "      dtype='object')"
      ]
     },
     "execution_count": 6,
     "metadata": {},
     "output_type": "execute_result"
    }
   ],
   "source": [
    "github_teams.columns"
   ]
  },
  {
   "cell_type": "markdown",
   "id": "8a7bc3a6-8ce6-44ce-84b9-0eec38e9f90e",
   "metadata": {},
   "source": [
    "## Determine the number of columns."
   ]
  },
  {
   "cell_type": "code",
   "execution_count": 9,
   "id": "6ffacade-d90c-4036-8921-abe367d2044d",
   "metadata": {},
   "outputs": [
    {
     "data": {
      "text/plain": [
       "19"
      ]
     },
     "execution_count": 9,
     "metadata": {},
     "output_type": "execute_result"
    }
   ],
   "source": [
    "len(github_teams.columns)"
   ]
  },
  {
   "cell_type": "markdown",
   "id": "1bd4f776-d9f5-469d-8305-fefe567637b2",
   "metadata": {},
   "source": [
    "## Determine the number of rows."
   ]
  },
  {
   "cell_type": "code",
   "execution_count": 10,
   "id": "fe63c9db-4fbf-4ebe-b7ae-db4dd52597b9",
   "metadata": {},
   "outputs": [
    {
     "data": {
      "text/plain": [
       "608"
      ]
     },
     "execution_count": 10,
     "metadata": {},
     "output_type": "execute_result"
    }
   ],
   "source": [
    "len(github_teams.index)"
   ]
  },
  {
   "cell_type": "markdown",
   "id": "476384c2-b399-48b3-8b26-011ba3e4a22a",
   "metadata": {},
   "source": [
    "## Determine which columns are categorical and convert them from *object* to *category*."
   ]
  },
  {
   "cell_type": "code",
   "execution_count": 13,
   "id": "0aa2490d-ca2b-42d2-8a9f-f7180804a9a3",
   "metadata": {},
   "outputs": [
    {
     "name": "stdout",
     "output_type": "stream",
     "text": [
      "<class 'pandas.core.frame.DataFrame'>\n",
      "RangeIndex: 608 entries, 0 to 607\n",
      "Data columns (total 19 columns):\n",
      " #   Column                    Non-Null Count  Dtype  \n",
      "---  ------                    --------------  -----  \n",
      " 0   name_h                    608 non-null    object \n",
      " 1   Team_type                 608 non-null    object \n",
      " 2   Team_size_class           608 non-null    object \n",
      " 3   human_members_count       608 non-null    int64  \n",
      " 4   bot_members_count         608 non-null    int64  \n",
      " 5   human_work                608 non-null    int64  \n",
      " 6   work_per_human            608 non-null    float64\n",
      " 7   human_gini                608 non-null    float64\n",
      " 8   human_Push                608 non-null    int64  \n",
      " 9   human_IssueComments       608 non-null    int64  \n",
      " 10  human_PRReviewComment     608 non-null    int64  \n",
      " 11  human_MergedPR            608 non-null    int64  \n",
      " 12  bot_work                  608 non-null    int64  \n",
      " 13  bot_Push                  608 non-null    int64  \n",
      " 14  bot_IssueComments         608 non-null    int64  \n",
      " 15  bot_PRReviewComment       608 non-null    int64  \n",
      " 16  bot_MergedPR              608 non-null    int64  \n",
      " 17  eval_survival_day_median  303 non-null    float64\n",
      " 18  issues_count              303 non-null    float64\n",
      "dtypes: float64(4), int64(12), object(3)\n",
      "memory usage: 90.4+ KB\n"
     ]
    }
   ],
   "source": [
    "# Determine which columns are categorical.\n",
    "\n",
    "# See all metadata to see data types.\n",
    "github_teams.info()"
   ]
  },
  {
   "cell_type": "code",
   "execution_count": 14,
   "id": "1c35536c-bab5-47ff-9992-dda5db3b2a25",
   "metadata": {},
   "outputs": [
    {
     "data": {
      "text/html": [
       "<div>\n",
       "<style scoped>\n",
       "    .dataframe tbody tr th:only-of-type {\n",
       "        vertical-align: middle;\n",
       "    }\n",
       "\n",
       "    .dataframe tbody tr th {\n",
       "        vertical-align: top;\n",
       "    }\n",
       "\n",
       "    .dataframe thead th {\n",
       "        text-align: right;\n",
       "    }\n",
       "</style>\n",
       "<table border=\"1\" class=\"dataframe\">\n",
       "  <thead>\n",
       "    <tr style=\"text-align: right;\">\n",
       "      <th></th>\n",
       "      <th>name_h</th>\n",
       "      <th>Team_type</th>\n",
       "      <th>Team_size_class</th>\n",
       "      <th>human_members_count</th>\n",
       "      <th>bot_members_count</th>\n",
       "      <th>human_work</th>\n",
       "      <th>work_per_human</th>\n",
       "      <th>human_gini</th>\n",
       "      <th>human_Push</th>\n",
       "      <th>human_IssueComments</th>\n",
       "      <th>human_PRReviewComment</th>\n",
       "      <th>human_MergedPR</th>\n",
       "      <th>bot_work</th>\n",
       "      <th>bot_Push</th>\n",
       "      <th>bot_IssueComments</th>\n",
       "      <th>bot_PRReviewComment</th>\n",
       "      <th>bot_MergedPR</th>\n",
       "      <th>eval_survival_day_median</th>\n",
       "      <th>issues_count</th>\n",
       "    </tr>\n",
       "  </thead>\n",
       "  <tbody>\n",
       "    <tr>\n",
       "      <th>0</th>\n",
       "      <td>_1bqaxzCk0sfQaunsjeViQ/RCEZ3CASdLXbstu9y2JQ7Q</td>\n",
       "      <td>human-bot</td>\n",
       "      <td>Small</td>\n",
       "      <td>2</td>\n",
       "      <td>1</td>\n",
       "      <td>66</td>\n",
       "      <td>33.000000</td>\n",
       "      <td>0.287879</td>\n",
       "      <td>29</td>\n",
       "      <td>33</td>\n",
       "      <td>4</td>\n",
       "      <td>0</td>\n",
       "      <td>43</td>\n",
       "      <td>0</td>\n",
       "      <td>43</td>\n",
       "      <td>0</td>\n",
       "      <td>0</td>\n",
       "      <td>87.0</td>\n",
       "      <td>8.0</td>\n",
       "    </tr>\n",
       "    <tr>\n",
       "      <th>1</th>\n",
       "      <td>_9o07rGiC7DFyi-zm91Q0g/VOgMsrjYEwFAq0BY8kHqGQ</td>\n",
       "      <td>human</td>\n",
       "      <td>Small</td>\n",
       "      <td>2</td>\n",
       "      <td>0</td>\n",
       "      <td>62</td>\n",
       "      <td>31.000000</td>\n",
       "      <td>0.467742</td>\n",
       "      <td>62</td>\n",
       "      <td>0</td>\n",
       "      <td>0</td>\n",
       "      <td>0</td>\n",
       "      <td>0</td>\n",
       "      <td>0</td>\n",
       "      <td>0</td>\n",
       "      <td>0</td>\n",
       "      <td>0</td>\n",
       "      <td>NaN</td>\n",
       "      <td>NaN</td>\n",
       "    </tr>\n",
       "    <tr>\n",
       "      <th>2</th>\n",
       "      <td>_DzK53uaZXnAX3WcC0W28g/Epc4QWw5PNBQIIdvopEHDA</td>\n",
       "      <td>human</td>\n",
       "      <td>Large</td>\n",
       "      <td>7</td>\n",
       "      <td>0</td>\n",
       "      <td>211</td>\n",
       "      <td>30.142857</td>\n",
       "      <td>0.499661</td>\n",
       "      <td>194</td>\n",
       "      <td>16</td>\n",
       "      <td>1</td>\n",
       "      <td>0</td>\n",
       "      <td>0</td>\n",
       "      <td>0</td>\n",
       "      <td>0</td>\n",
       "      <td>0</td>\n",
       "      <td>0</td>\n",
       "      <td>37.0</td>\n",
       "      <td>46.0</td>\n",
       "    </tr>\n",
       "    <tr>\n",
       "      <th>3</th>\n",
       "      <td>_l5u7I5p4thtW5SjR_9_4w/aZNCdVXta7fh7eCMzZP1CA</td>\n",
       "      <td>human-bot</td>\n",
       "      <td>Large</td>\n",
       "      <td>234</td>\n",
       "      <td>12</td>\n",
       "      <td>14579</td>\n",
       "      <td>62.303419</td>\n",
       "      <td>0.738342</td>\n",
       "      <td>1942</td>\n",
       "      <td>11430</td>\n",
       "      <td>1170</td>\n",
       "      <td>37</td>\n",
       "      <td>1972</td>\n",
       "      <td>0</td>\n",
       "      <td>1972</td>\n",
       "      <td>0</td>\n",
       "      <td>0</td>\n",
       "      <td>1.0</td>\n",
       "      <td>4757.0</td>\n",
       "    </tr>\n",
       "    <tr>\n",
       "      <th>4</th>\n",
       "      <td>_l5u7I5p4thtW5SjR_9_4w/m_FpD7PKQHqVXHn2bh7u2g</td>\n",
       "      <td>human-bot</td>\n",
       "      <td>Large</td>\n",
       "      <td>38</td>\n",
       "      <td>8</td>\n",
       "      <td>1625</td>\n",
       "      <td>42.763158</td>\n",
       "      <td>0.666607</td>\n",
       "      <td>203</td>\n",
       "      <td>1270</td>\n",
       "      <td>152</td>\n",
       "      <td>0</td>\n",
       "      <td>302</td>\n",
       "      <td>0</td>\n",
       "      <td>302</td>\n",
       "      <td>0</td>\n",
       "      <td>0</td>\n",
       "      <td>2.0</td>\n",
       "      <td>777.0</td>\n",
       "    </tr>\n",
       "    <tr>\n",
       "      <th>...</th>\n",
       "      <td>...</td>\n",
       "      <td>...</td>\n",
       "      <td>...</td>\n",
       "      <td>...</td>\n",
       "      <td>...</td>\n",
       "      <td>...</td>\n",
       "      <td>...</td>\n",
       "      <td>...</td>\n",
       "      <td>...</td>\n",
       "      <td>...</td>\n",
       "      <td>...</td>\n",
       "      <td>...</td>\n",
       "      <td>...</td>\n",
       "      <td>...</td>\n",
       "      <td>...</td>\n",
       "      <td>...</td>\n",
       "      <td>...</td>\n",
       "      <td>...</td>\n",
       "      <td>...</td>\n",
       "    </tr>\n",
       "    <tr>\n",
       "      <th>603</th>\n",
       "      <td>zTj5tlMWgotzJmQl7BP8wQ/iQ914_smScbUO8BI9JlE6A</td>\n",
       "      <td>human-bot</td>\n",
       "      <td>Small</td>\n",
       "      <td>3</td>\n",
       "      <td>1</td>\n",
       "      <td>855</td>\n",
       "      <td>285.000000</td>\n",
       "      <td>0.474854</td>\n",
       "      <td>423</td>\n",
       "      <td>59</td>\n",
       "      <td>373</td>\n",
       "      <td>0</td>\n",
       "      <td>26</td>\n",
       "      <td>0</td>\n",
       "      <td>26</td>\n",
       "      <td>0</td>\n",
       "      <td>0</td>\n",
       "      <td>NaN</td>\n",
       "      <td>NaN</td>\n",
       "    </tr>\n",
       "    <tr>\n",
       "      <th>604</th>\n",
       "      <td>zUBexdmYylGGpxiebXm6gg/sJXD2kulWzU35ijdY3SnBQ</td>\n",
       "      <td>human</td>\n",
       "      <td>Small</td>\n",
       "      <td>2</td>\n",
       "      <td>0</td>\n",
       "      <td>63</td>\n",
       "      <td>31.500000</td>\n",
       "      <td>0.436508</td>\n",
       "      <td>63</td>\n",
       "      <td>0</td>\n",
       "      <td>0</td>\n",
       "      <td>0</td>\n",
       "      <td>0</td>\n",
       "      <td>0</td>\n",
       "      <td>0</td>\n",
       "      <td>0</td>\n",
       "      <td>0</td>\n",
       "      <td>NaN</td>\n",
       "      <td>NaN</td>\n",
       "    </tr>\n",
       "    <tr>\n",
       "      <th>605</th>\n",
       "      <td>zVSBi-iRKCzLiqFwVt6hbg/8SfUBIOeWUjDoQxeUCX7wQ</td>\n",
       "      <td>human</td>\n",
       "      <td>Medium</td>\n",
       "      <td>5</td>\n",
       "      <td>0</td>\n",
       "      <td>26</td>\n",
       "      <td>5.200000</td>\n",
       "      <td>0.446154</td>\n",
       "      <td>19</td>\n",
       "      <td>5</td>\n",
       "      <td>2</td>\n",
       "      <td>0</td>\n",
       "      <td>0</td>\n",
       "      <td>0</td>\n",
       "      <td>0</td>\n",
       "      <td>0</td>\n",
       "      <td>0</td>\n",
       "      <td>NaN</td>\n",
       "      <td>NaN</td>\n",
       "    </tr>\n",
       "    <tr>\n",
       "      <th>606</th>\n",
       "      <td>zVSBi-iRKCzLiqFwVt6hbg/fm_lDWwc8Uu-aZ24BjUNZg</td>\n",
       "      <td>human</td>\n",
       "      <td>Medium</td>\n",
       "      <td>5</td>\n",
       "      <td>0</td>\n",
       "      <td>13</td>\n",
       "      <td>2.600000</td>\n",
       "      <td>0.246154</td>\n",
       "      <td>8</td>\n",
       "      <td>4</td>\n",
       "      <td>1</td>\n",
       "      <td>0</td>\n",
       "      <td>0</td>\n",
       "      <td>0</td>\n",
       "      <td>0</td>\n",
       "      <td>0</td>\n",
       "      <td>0</td>\n",
       "      <td>8.0</td>\n",
       "      <td>10.0</td>\n",
       "    </tr>\n",
       "    <tr>\n",
       "      <th>607</th>\n",
       "      <td>ZX09uvu0z_JVPVI-XrPniQ/pxiuGX_R6QI2Euvx2GFIFw</td>\n",
       "      <td>human-bot</td>\n",
       "      <td>Small</td>\n",
       "      <td>2</td>\n",
       "      <td>1</td>\n",
       "      <td>57</td>\n",
       "      <td>28.500000</td>\n",
       "      <td>0.043860</td>\n",
       "      <td>32</td>\n",
       "      <td>24</td>\n",
       "      <td>1</td>\n",
       "      <td>0</td>\n",
       "      <td>8</td>\n",
       "      <td>3</td>\n",
       "      <td>4</td>\n",
       "      <td>1</td>\n",
       "      <td>0</td>\n",
       "      <td>5.0</td>\n",
       "      <td>26.0</td>\n",
       "    </tr>\n",
       "  </tbody>\n",
       "</table>\n",
       "<p>608 rows × 19 columns</p>\n",
       "</div>"
      ],
      "text/plain": [
       "                                            name_h  Team_type Team_size_class  \\\n",
       "0    _1bqaxzCk0sfQaunsjeViQ/RCEZ3CASdLXbstu9y2JQ7Q  human-bot           Small   \n",
       "1    _9o07rGiC7DFyi-zm91Q0g/VOgMsrjYEwFAq0BY8kHqGQ      human           Small   \n",
       "2    _DzK53uaZXnAX3WcC0W28g/Epc4QWw5PNBQIIdvopEHDA      human           Large   \n",
       "3    _l5u7I5p4thtW5SjR_9_4w/aZNCdVXta7fh7eCMzZP1CA  human-bot           Large   \n",
       "4    _l5u7I5p4thtW5SjR_9_4w/m_FpD7PKQHqVXHn2bh7u2g  human-bot           Large   \n",
       "..                                             ...        ...             ...   \n",
       "603  zTj5tlMWgotzJmQl7BP8wQ/iQ914_smScbUO8BI9JlE6A  human-bot           Small   \n",
       "604  zUBexdmYylGGpxiebXm6gg/sJXD2kulWzU35ijdY3SnBQ      human           Small   \n",
       "605  zVSBi-iRKCzLiqFwVt6hbg/8SfUBIOeWUjDoQxeUCX7wQ      human          Medium   \n",
       "606  zVSBi-iRKCzLiqFwVt6hbg/fm_lDWwc8Uu-aZ24BjUNZg      human          Medium   \n",
       "607  ZX09uvu0z_JVPVI-XrPniQ/pxiuGX_R6QI2Euvx2GFIFw  human-bot           Small   \n",
       "\n",
       "     human_members_count  bot_members_count  human_work  work_per_human  \\\n",
       "0                      2                  1          66       33.000000   \n",
       "1                      2                  0          62       31.000000   \n",
       "2                      7                  0         211       30.142857   \n",
       "3                    234                 12       14579       62.303419   \n",
       "4                     38                  8        1625       42.763158   \n",
       "..                   ...                ...         ...             ...   \n",
       "603                    3                  1         855      285.000000   \n",
       "604                    2                  0          63       31.500000   \n",
       "605                    5                  0          26        5.200000   \n",
       "606                    5                  0          13        2.600000   \n",
       "607                    2                  1          57       28.500000   \n",
       "\n",
       "     human_gini  human_Push  human_IssueComments  human_PRReviewComment  \\\n",
       "0      0.287879          29                   33                      4   \n",
       "1      0.467742          62                    0                      0   \n",
       "2      0.499661         194                   16                      1   \n",
       "3      0.738342        1942                11430                   1170   \n",
       "4      0.666607         203                 1270                    152   \n",
       "..          ...         ...                  ...                    ...   \n",
       "603    0.474854         423                   59                    373   \n",
       "604    0.436508          63                    0                      0   \n",
       "605    0.446154          19                    5                      2   \n",
       "606    0.246154           8                    4                      1   \n",
       "607    0.043860          32                   24                      1   \n",
       "\n",
       "     human_MergedPR  bot_work  bot_Push  bot_IssueComments  \\\n",
       "0                 0        43         0                 43   \n",
       "1                 0         0         0                  0   \n",
       "2                 0         0         0                  0   \n",
       "3                37      1972         0               1972   \n",
       "4                 0       302         0                302   \n",
       "..              ...       ...       ...                ...   \n",
       "603               0        26         0                 26   \n",
       "604               0         0         0                  0   \n",
       "605               0         0         0                  0   \n",
       "606               0         0         0                  0   \n",
       "607               0         8         3                  4   \n",
       "\n",
       "     bot_PRReviewComment  bot_MergedPR  eval_survival_day_median  issues_count  \n",
       "0                      0             0                      87.0           8.0  \n",
       "1                      0             0                       NaN           NaN  \n",
       "2                      0             0                      37.0          46.0  \n",
       "3                      0             0                       1.0        4757.0  \n",
       "4                      0             0                       2.0         777.0  \n",
       "..                   ...           ...                       ...           ...  \n",
       "603                    0             0                       NaN           NaN  \n",
       "604                    0             0                       NaN           NaN  \n",
       "605                    0             0                       NaN           NaN  \n",
       "606                    0             0                       8.0          10.0  \n",
       "607                    1             0                       5.0          26.0  \n",
       "\n",
       "[608 rows x 19 columns]"
      ]
     },
     "execution_count": 14,
     "metadata": {},
     "output_type": "execute_result"
    }
   ],
   "source": [
    "# Check the data to determine which columns are columns are categorical. In this case, it is columns 1 and 2 (Team_type and Team_size_class).\n",
    "github_teams"
   ]
  },
  {
   "cell_type": "code",
   "execution_count": 17,
   "id": "7ed9eab8-e03d-43d9-abd3-be82a90223c8",
   "metadata": {},
   "outputs": [
    {
     "name": "stdout",
     "output_type": "stream",
     "text": [
      "<class 'pandas.core.frame.DataFrame'>\n",
      "RangeIndex: 608 entries, 0 to 607\n",
      "Data columns (total 19 columns):\n",
      " #   Column                    Non-Null Count  Dtype   \n",
      "---  ------                    --------------  -----   \n",
      " 0   name_h                    608 non-null    object  \n",
      " 1   Team_type                 608 non-null    category\n",
      " 2   Team_size_class           608 non-null    category\n",
      " 3   human_members_count       608 non-null    int64   \n",
      " 4   bot_members_count         608 non-null    int64   \n",
      " 5   human_work                608 non-null    int64   \n",
      " 6   work_per_human            608 non-null    float64 \n",
      " 7   human_gini                608 non-null    float64 \n",
      " 8   human_Push                608 non-null    int64   \n",
      " 9   human_IssueComments       608 non-null    int64   \n",
      " 10  human_PRReviewComment     608 non-null    int64   \n",
      " 11  human_MergedPR            608 non-null    int64   \n",
      " 12  bot_work                  608 non-null    int64   \n",
      " 13  bot_Push                  608 non-null    int64   \n",
      " 14  bot_IssueComments         608 non-null    int64   \n",
      " 15  bot_PRReviewComment       608 non-null    int64   \n",
      " 16  bot_MergedPR              608 non-null    int64   \n",
      " 17  eval_survival_day_median  303 non-null    float64 \n",
      " 18  issues_count              303 non-null    float64 \n",
      "dtypes: category(2), float64(4), int64(12), object(1)\n",
      "memory usage: 82.3+ KB\n"
     ]
    }
   ],
   "source": [
    "# Convert to 'category' type.\n",
    "github_teams['Team_type'] = github_teams['Team_type'].astype('category')\n",
    "github_teams['Team_size_class'] = github_teams['Team_size_class'].astype('category')\n",
    "\n",
    "# Check to make sure conversion happened. \n",
    "github_teams.info()"
   ]
  },
  {
   "cell_type": "markdown",
   "id": "da1249c6-03fa-4647-8b61-5d83b28baa70",
   "metadata": {},
   "source": [
    "## How many unique values does `Team_type` have?"
   ]
  },
  {
   "cell_type": "code",
   "execution_count": 18,
   "id": "90e2b913-86d4-4f85-a483-4ac71aba3934",
   "metadata": {},
   "outputs": [
    {
     "data": {
      "text/plain": [
       "['human-bot', 'human']\n",
       "Categories (2, object): ['human', 'human-bot']"
      ]
     },
     "execution_count": 18,
     "metadata": {},
     "output_type": "execute_result"
    }
   ],
   "source": [
    "# Determine number of unique values in the \"Team_type\" column. In this case, there are two.\n",
    "pd.unique(github_teams.Team_type)"
   ]
  },
  {
   "cell_type": "markdown",
   "id": "9a89fdef-11fb-48dc-b543-7a7b55dc3a5c",
   "metadata": {},
   "source": [
    "## How many unique values does `Team_size_class` have?"
   ]
  },
  {
   "cell_type": "code",
   "execution_count": 19,
   "id": "74d38359-79dc-4df7-8446-f07f46c2721b",
   "metadata": {},
   "outputs": [
    {
     "data": {
      "text/plain": [
       "['Small', 'Large', 'Medium']\n",
       "Categories (3, object): ['Large', 'Medium', 'Small']"
      ]
     },
     "execution_count": 19,
     "metadata": {},
     "output_type": "execute_result"
    }
   ],
   "source": [
    "# Determine number of unique values in the \"Team_type\" column. In this case, there are three.\n",
    "pd.unique(github_teams.Team_size_class)"
   ]
  },
  {
   "cell_type": "markdown",
   "id": "b8e566ad-2e2d-4fc6-9e58-2f360e7681f1",
   "metadata": {},
   "source": [
    "## What is the value of the 63rd row and 6th column?"
   ]
  },
  {
   "cell_type": "code",
   "execution_count": 20,
   "id": "5e7eb535-f303-4272-a923-2029f24744fc",
   "metadata": {},
   "outputs": [
    {
     "data": {
      "text/plain": [
       "35"
      ]
     },
     "execution_count": 20,
     "metadata": {},
     "output_type": "execute_result"
    }
   ],
   "source": [
    "# The answer is 35.\n",
    "github_teams.iloc[62, 5]"
   ]
  },
  {
   "cell_type": "markdown",
   "id": "3718c81f-c844-438a-b0d4-23b846be494e",
   "metadata": {},
   "source": [
    "## What are the values for the 300th row?"
   ]
  },
  {
   "cell_type": "code",
   "execution_count": 21,
   "id": "d4aef5c7-5e55-406b-a8a5-6c65e130e2aa",
   "metadata": {},
   "outputs": [
    {
     "data": {
      "text/plain": [
       "name_h                      j9wc2HRCyP7cJecuXHvGtA/aSJGod8SfdlMjqys9HJuqA\n",
       "Team_type                                                           human\n",
       "Team_size_class                                                     Small\n",
       "human_members_count                                                     3\n",
       "bot_members_count                                                       0\n",
       "human_work                                                             47\n",
       "work_per_human                                                  15.666667\n",
       "human_gini                                                       0.382979\n",
       "human_Push                                                             47\n",
       "human_IssueComments                                                     0\n",
       "human_PRReviewComment                                                   0\n",
       "human_MergedPR                                                          0\n",
       "bot_work                                                                0\n",
       "bot_Push                                                                0\n",
       "bot_IssueComments                                                       0\n",
       "bot_PRReviewComment                                                     0\n",
       "bot_MergedPR                                                            0\n",
       "eval_survival_day_median                                              NaN\n",
       "issues_count                                                          NaN\n",
       "Name: 301, dtype: object"
      ]
     },
     "execution_count": 21,
     "metadata": {},
     "output_type": "execute_result"
    }
   ],
   "source": [
    "github_teams.iloc[301]"
   ]
  },
  {
   "cell_type": "markdown",
   "id": "62a0eb7b-2099-46ea-b2db-a590b3789624",
   "metadata": {},
   "source": [
    "## Using three different methods, select row with index value 595 with 1st, 2nd, 3rd columns."
   ]
  },
  {
   "cell_type": "code",
   "execution_count": 22,
   "id": "48efe6ac-cfb5-4430-a356-76c9f3c335f1",
   "metadata": {},
   "outputs": [
    {
     "data": {
      "text/plain": [
       "name_h             zAh1NECRCquqUJ_-1d6hAw/DET3jTK8hokYfY_neJ1IVQ\n",
       "Team_type                                              human-bot\n",
       "Team_size_class                                            Small\n",
       "Name: 595, dtype: object"
      ]
     },
     "execution_count": 22,
     "metadata": {},
     "output_type": "execute_result"
    }
   ],
   "source": [
    "# Method 1 - Array\n",
    "\n",
    "github_teams.iloc[595, [0, 1, 2]]"
   ]
  },
  {
   "cell_type": "code",
   "execution_count": 24,
   "id": "70996931-3689-48f4-b53c-9d991110f5e8",
   "metadata": {},
   "outputs": [
    {
     "data": {
      "text/plain": [
       "name_h             zAh1NECRCquqUJ_-1d6hAw/DET3jTK8hokYfY_neJ1IVQ\n",
       "Team_type                                              human-bot\n",
       "Team_size_class                                            Small\n",
       "Name: 595, dtype: object"
      ]
     },
     "execution_count": 24,
     "metadata": {},
     "output_type": "execute_result"
    }
   ],
   "source": [
    "# Method 2 - Slicing\n",
    "\n",
    "github_teams.iloc[595, :3]"
   ]
  },
  {
   "cell_type": "code",
   "execution_count": 28,
   "id": "745d9e0f-335a-4754-8a5f-06527fe58247",
   "metadata": {},
   "outputs": [
    {
     "data": {
      "text/plain": [
       "name_h             zAh1NECRCquqUJ_-1d6hAw/DET3jTK8hokYfY_neJ1IVQ\n",
       "Team_type                                              human-bot\n",
       "Team_size_class                                            Small\n",
       "Name: 595, dtype: object"
      ]
     },
     "execution_count": 28,
     "metadata": {},
     "output_type": "execute_result"
    }
   ],
   "source": [
    "# Method 3 - Array using label-based indexing\n",
    "\n",
    "github_teams.loc[595, ['name_h', 'Team_type','Team_size_class']]"
   ]
  },
  {
   "cell_type": "markdown",
   "id": "44b28996-f33e-4adc-b00a-591c2a9d5c6b",
   "metadata": {},
   "source": [
    "## Using two different methods, select the row with index value 46 with the 3rd and 7th columns."
   ]
  },
  {
   "cell_type": "code",
   "execution_count": 34,
   "id": "7e3f9e47-ae02-4c11-a837-cd0efb09084f",
   "metadata": {},
   "outputs": [
    {
     "data": {
      "text/plain": [
       "Team_size_class       Medium\n",
       "work_per_human     31.833333\n",
       "Name: 46, dtype: object"
      ]
     },
     "execution_count": 34,
     "metadata": {},
     "output_type": "execute_result"
    }
   ],
   "source": [
    "# Method 1 - Array\n",
    "\n",
    "github_teams.iloc[46, [2, 6]]"
   ]
  },
  {
   "cell_type": "code",
   "execution_count": 35,
   "id": "88d3573d-dfe3-46a0-9a37-fa9e5971335a",
   "metadata": {},
   "outputs": [
    {
     "data": {
      "text/plain": [
       "Team_size_class       Medium\n",
       "work_per_human     31.833333\n",
       "Name: 46, dtype: object"
      ]
     },
     "execution_count": 35,
     "metadata": {},
     "output_type": "execute_result"
    }
   ],
   "source": [
    "# Method 2 - label-based indexing array\n",
    "\n",
    "github_teams.loc[46, ['Team_size_class', 'work_per_human']]"
   ]
  },
  {
   "cell_type": "markdown",
   "id": "88620067-673e-435f-a62e-52b268ca2716",
   "metadata": {},
   "source": [
    "## Create a new DataFrame for the column `bot_work` using two different methods."
   ]
  },
  {
   "cell_type": "code",
   "execution_count": 37,
   "id": "6686ed71-99f8-4ce4-a818-0c4686b3fc82",
   "metadata": {},
   "outputs": [
    {
     "data": {
      "text/html": [
       "<div>\n",
       "<style scoped>\n",
       "    .dataframe tbody tr th:only-of-type {\n",
       "        vertical-align: middle;\n",
       "    }\n",
       "\n",
       "    .dataframe tbody tr th {\n",
       "        vertical-align: top;\n",
       "    }\n",
       "\n",
       "    .dataframe thead th {\n",
       "        text-align: right;\n",
       "    }\n",
       "</style>\n",
       "<table border=\"1\" class=\"dataframe\">\n",
       "  <thead>\n",
       "    <tr style=\"text-align: right;\">\n",
       "      <th></th>\n",
       "      <th>bot_work</th>\n",
       "    </tr>\n",
       "  </thead>\n",
       "  <tbody>\n",
       "    <tr>\n",
       "      <th>0</th>\n",
       "      <td>43</td>\n",
       "    </tr>\n",
       "    <tr>\n",
       "      <th>1</th>\n",
       "      <td>0</td>\n",
       "    </tr>\n",
       "    <tr>\n",
       "      <th>2</th>\n",
       "      <td>0</td>\n",
       "    </tr>\n",
       "    <tr>\n",
       "      <th>3</th>\n",
       "      <td>1972</td>\n",
       "    </tr>\n",
       "    <tr>\n",
       "      <th>4</th>\n",
       "      <td>302</td>\n",
       "    </tr>\n",
       "    <tr>\n",
       "      <th>...</th>\n",
       "      <td>...</td>\n",
       "    </tr>\n",
       "    <tr>\n",
       "      <th>603</th>\n",
       "      <td>26</td>\n",
       "    </tr>\n",
       "    <tr>\n",
       "      <th>604</th>\n",
       "      <td>0</td>\n",
       "    </tr>\n",
       "    <tr>\n",
       "      <th>605</th>\n",
       "      <td>0</td>\n",
       "    </tr>\n",
       "    <tr>\n",
       "      <th>606</th>\n",
       "      <td>0</td>\n",
       "    </tr>\n",
       "    <tr>\n",
       "      <th>607</th>\n",
       "      <td>8</td>\n",
       "    </tr>\n",
       "  </tbody>\n",
       "</table>\n",
       "<p>608 rows × 1 columns</p>\n",
       "</div>"
      ],
      "text/plain": [
       "     bot_work\n",
       "0          43\n",
       "1           0\n",
       "2           0\n",
       "3        1972\n",
       "4         302\n",
       "..        ...\n",
       "603        26\n",
       "604         0\n",
       "605         0\n",
       "606         0\n",
       "607         8\n",
       "\n",
       "[608 rows x 1 columns]"
      ]
     },
     "execution_count": 37,
     "metadata": {},
     "output_type": "execute_result"
    }
   ],
   "source": [
    "# Method 1\n",
    "\n",
    "new_bot_work_dataframe = pd.DataFrame(github_teams.bot_work)\n",
    "\n",
    "new_bot_work_dataframe"
   ]
  },
  {
   "cell_type": "code",
   "execution_count": null,
   "id": "61ce03ac-e89d-4386-8394-0c78bd277b3b",
   "metadata": {},
   "outputs": [],
   "source": [
    "# Method 2"
   ]
  },
  {
   "cell_type": "markdown",
   "id": "26ed3948-c4d1-4a02-af56-fa7277e99d34",
   "metadata": {},
   "source": [
    "# Sorting and Ordering data "
   ]
  },
  {
   "cell_type": "code",
   "execution_count": 8,
   "id": "a39a4d64-a9e6-447b-9c53-b3cf85021227",
   "metadata": {},
   "outputs": [],
   "source": [
    "# Select `human-bot` teams that have a `bot_members_count` value greater than and equal to 2. \n",
    "\n",
    "# Find the `human` teams that are `Large` and have a `human_gini` value greater than and equal to 0.75.\n",
    "    \n",
    "# How many teams are in the `Small` or `Large` category?\n",
    "    \n",
    "# How many teams are in the `Small` or `Large` cateogry with a `human_gini` value less than and equal to 0.20?\n",
    "    \n",
    "# How many `human-bot` teams are in the `Medium` category?\n",
    "    \n",
    "# Create a subsample of 50% of your data.\n",
    "    \n",
    "# Create samples for a 8-fold cross validation test.\n",
    "    \n",
    "# Select columns that are numeric and save it as a new DataFrame.\n",
    "    \n",
    "# Remove the columns `bot_PRReviewComment` and `bot_MergedPR` from the DataFrame.\n",
    "\n",
    "# Save the columns `Team_size_class` and `human_members_count` as a new DataFrame.\n",
    "\n",
    "# Rename these two columns in the new DataFrame."
   ]
  }
 ],
 "metadata": {
  "kernelspec": {
   "display_name": "Python 3 (ipykernel)",
   "language": "python",
   "name": "python3"
  },
  "language_info": {
   "codemirror_mode": {
    "name": "ipython",
    "version": 3
   },
   "file_extension": ".py",
   "mimetype": "text/x-python",
   "name": "python",
   "nbconvert_exporter": "python",
   "pygments_lexer": "ipython3",
   "version": "3.12.7"
  }
 },
 "nbformat": 4,
 "nbformat_minor": 5
}
